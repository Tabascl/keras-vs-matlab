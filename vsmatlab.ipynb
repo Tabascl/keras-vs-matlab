{
 "cells": [
  {
   "cell_type": "markdown",
   "metadata": {},
   "source": [
    "## We want to create a neural network with Keras that beats this Matlab implementation:\n",
    "\n",
    "![Matlab loss](loss.jpg)\n",
    "\n",
    "![Matlab fit](fit.jpg)"
   ]
  },
  {
   "cell_type": "code",
   "execution_count": 8,
   "metadata": {},
   "outputs": [],
   "source": [
    "from matplotlib.pyplot import plot, legend\n",
    "import numpy as np\n",
    "\n",
    "from keras.models import Sequential\n",
    "from keras.layers import Dense, Activation\n",
    "from keras.optimizers import Adam"
   ]
  },
  {
   "cell_type": "code",
   "execution_count": 9,
   "metadata": {},
   "outputs": [
    {
     "data": {
      "text/plain": [
       "[<matplotlib.lines.Line2D at 0x7f4c6458de10>]"
      ]
     },
     "execution_count": 9,
     "metadata": {},
     "output_type": "execute_result"
    },
    {
     "data": {
      "image/png": "[encoded data removed]",
      "text/plain": [
       "<matplotlib.figure.Figure at 0x7f4c646e6400>"
      ]
     },
     "metadata": {},
     "output_type": "display_data"
    }
   ],
   "source": [
    "# Prepare data just like in Matlab\n",
    "x = np.arange(0, 10.1, 0.1)\n",
    "\n",
    "def sinc(x):\n",
    "    if x == 0:\n",
    "        return 1\n",
    "    else:\n",
    "        return (np.sin(x) / x)\n",
    "    \n",
    "y = [sinc(val) for val in x]\n",
    "\n",
    "plot(x,y)"
   ]
  },
  {
   "cell_type": "code",
   "execution_count": 10,
   "metadata": {},
   "outputs": [],
   "source": [
    "# Create a model with one hidden layer, just like in Matlab\n",
    "\n",
    "model = Sequential()\n",
    "model.add(Dense(10, input_shape=(1,)))\n",
    "model.add(Activation('tanh'))\n",
    "model.add(Dense(1))\n",
    "model.add(Activation('linear'))\n",
    "\n",
    "opti = Adam()\n",
    "\n",
    "model.compile(optimizer=opti,\n",
    "              loss='mean_squared_error')"
   ]
  },
  {
   "cell_type": "code",
   "execution_count": 11,
   "metadata": {},
   "outputs": [
    {
     "name": "stdout",
     "output_type": "stream",
     "text": [
      "Train on 85 samples, validate on 16 samples\n",
      "Epoch 1/100\n",
      "85/85 [==============================] - 0s 2ms/step - loss: 0.2018 - val_loss: 0.0040\n",
      "Epoch 2/100\n",
      "85/85 [==============================] - 0s 72us/step - loss: 0.1950 - val_loss: 0.0036\n",
      "Epoch 3/100\n",
      "85/85 [==============================] - 0s 83us/step - loss: 0.1886 - val_loss: 0.0036\n",
      "Epoch 4/100\n",
      "85/85 [==============================] - 0s 74us/step - loss: 0.1822 - val_loss: 0.0030\n",
      "Epoch 5/100\n",
      "85/85 [==============================] - 0s 129us/step - loss: 0.1762 - val_loss: 0.0024\n",
      "Epoch 6/100\n",
      "85/85 [==============================] - 0s 142us/step - loss: 0.1707 - val_loss: 0.0019\n",
      "Epoch 7/100\n",
      "85/85 [==============================] - 0s 71us/step - loss: 0.1649 - val_loss: 0.0015\n",
      "Epoch 8/100\n",
      "85/85 [==============================] - 0s 112us/step - loss: 0.1595 - val_loss: 0.0014\n",
      "Epoch 9/100\n",
      "85/85 [==============================] - 0s 86us/step - loss: 0.1542 - val_loss: 0.0015\n",
      "Epoch 10/100\n",
      "85/85 [==============================] - 0s 104us/step - loss: 0.1490 - val_loss: 0.0020\n",
      "Epoch 11/100\n",
      "85/85 [==============================] - 0s 74us/step - loss: 0.1441 - val_loss: 0.0027\n",
      "Epoch 12/100\n",
      "85/85 [==============================] - 0s 144us/step - loss: 0.1398 - val_loss: 0.0037\n",
      "Epoch 13/100\n",
      "85/85 [==============================] - 0s 112us/step - loss: 0.1353 - val_loss: 0.0047\n",
      "Epoch 14/100\n",
      "85/85 [==============================] - 0s 70us/step - loss: 0.1309 - val_loss: 0.0053\n",
      "Epoch 15/100\n",
      "85/85 [==============================] - 0s 96us/step - loss: 0.1261 - val_loss: 0.0060\n",
      "Epoch 16/100\n",
      "85/85 [==============================] - 0s 62us/step - loss: 0.1229 - val_loss: 0.0062\n",
      "Epoch 17/100\n",
      "85/85 [==============================] - 0s 59us/step - loss: 0.1192 - val_loss: 0.0065\n",
      "Epoch 18/100\n",
      "85/85 [==============================] - 0s 119us/step - loss: 0.1154 - val_loss: 0.0075\n",
      "Epoch 19/100\n",
      "85/85 [==============================] - 0s 109us/step - loss: 0.1119 - val_loss: 0.0089\n",
      "Epoch 20/100\n",
      "85/85 [==============================] - 0s 68us/step - loss: 0.1084 - val_loss: 0.0103\n",
      "Epoch 21/100\n",
      "85/85 [==============================] - 0s 112us/step - loss: 0.1052 - val_loss: 0.0117\n",
      "Epoch 22/100\n",
      "85/85 [==============================] - 0s 68us/step - loss: 0.1020 - val_loss: 0.0127\n",
      "Epoch 23/100\n",
      "85/85 [==============================] - 0s 115us/step - loss: 0.0993 - val_loss: 0.0137\n",
      "Epoch 24/100\n",
      "85/85 [==============================] - 0s 80us/step - loss: 0.0963 - val_loss: 0.0147\n",
      "Epoch 25/100\n",
      "85/85 [==============================] - 0s 108us/step - loss: 0.0935 - val_loss: 0.0156\n",
      "Epoch 26/100\n",
      "85/85 [==============================] - 0s 81us/step - loss: 0.0907 - val_loss: 0.0168\n",
      "Epoch 27/100\n",
      "85/85 [==============================] - 0s 122us/step - loss: 0.0882 - val_loss: 0.0175\n",
      "Epoch 28/100\n",
      "85/85 [==============================] - 0s 139us/step - loss: 0.0859 - val_loss: 0.0178\n",
      "Epoch 29/100\n",
      "85/85 [==============================] - 0s 87us/step - loss: 0.0834 - val_loss: 0.0185\n",
      "Epoch 30/100\n",
      "85/85 [==============================] - 0s 124us/step - loss: 0.0810 - val_loss: 0.0187\n",
      "Epoch 31/100\n",
      "85/85 [==============================] - 0s 86us/step - loss: 0.0792 - val_loss: 0.0195\n",
      "Epoch 32/100\n",
      "85/85 [==============================] - 0s 115us/step - loss: 0.0769 - val_loss: 0.0223\n",
      "Epoch 33/100\n",
      "85/85 [==============================] - 0s 92us/step - loss: 0.0749 - val_loss: 0.0237\n",
      "Epoch 34/100\n",
      "85/85 [==============================] - 0s 70us/step - loss: 0.0729 - val_loss: 0.0253\n",
      "Epoch 35/100\n",
      "85/85 [==============================] - 0s 66us/step - loss: 0.0712 - val_loss: 0.0257\n",
      "Epoch 36/100\n",
      "85/85 [==============================] - 0s 132us/step - loss: 0.0694 - val_loss: 0.0263\n",
      "Epoch 37/100\n",
      "85/85 [==============================] - 0s 144us/step - loss: 0.0677 - val_loss: 0.0260\n",
      "Epoch 38/100\n",
      "85/85 [==============================] - 0s 86us/step - loss: 0.0660 - val_loss: 0.0265\n",
      "Epoch 39/100\n",
      "85/85 [==============================] - 0s 72us/step - loss: 0.0643 - val_loss: 0.0268\n",
      "Epoch 40/100\n",
      "85/85 [==============================] - 0s 83us/step - loss: 0.0629 - val_loss: 0.0261\n",
      "Epoch 41/100\n",
      "85/85 [==============================] - 0s 136us/step - loss: 0.0614 - val_loss: 0.0251\n",
      "Epoch 42/100\n",
      "85/85 [==============================] - 0s 99us/step - loss: 0.0601 - val_loss: 0.0242\n",
      "Epoch 43/100\n",
      "85/85 [==============================] - 0s 110us/step - loss: 0.0585 - val_loss: 0.0252\n",
      "Epoch 44/100\n",
      "85/85 [==============================] - 0s 94us/step - loss: 0.0572 - val_loss: 0.0260\n",
      "Epoch 45/100\n",
      "85/85 [==============================] - 0s 89us/step - loss: 0.0558 - val_loss: 0.0257\n",
      "Epoch 46/100\n",
      "85/85 [==============================] - 0s 153us/step - loss: 0.0546 - val_loss: 0.0261\n",
      "Epoch 47/100\n",
      "85/85 [==============================] - 0s 114us/step - loss: 0.0532 - val_loss: 0.0259\n",
      "Epoch 48/100\n",
      "85/85 [==============================] - 0s 94us/step - loss: 0.0520 - val_loss: 0.0258\n",
      "Epoch 49/100\n",
      "85/85 [==============================] - 0s 90us/step - loss: 0.0509 - val_loss: 0.0255\n",
      "Epoch 50/100\n",
      "85/85 [==============================] - 0s 87us/step - loss: 0.0497 - val_loss: 0.0256\n",
      "Epoch 51/100\n",
      "85/85 [==============================] - 0s 70us/step - loss: 0.0485 - val_loss: 0.0255\n",
      "Epoch 52/100\n",
      "85/85 [==============================] - 0s 61us/step - loss: 0.0475 - val_loss: 0.0261\n",
      "Epoch 53/100\n",
      "85/85 [==============================] - 0s 89us/step - loss: 0.0465 - val_loss: 0.0249\n",
      "Epoch 54/100\n",
      "85/85 [==============================] - 0s 141us/step - loss: 0.0453 - val_loss: 0.0248\n",
      "Epoch 55/100\n",
      "85/85 [==============================] - 0s 122us/step - loss: 0.0444 - val_loss: 0.0236\n",
      "Epoch 56/100\n",
      "85/85 [==============================] - 0s 85us/step - loss: 0.0433 - val_loss: 0.0236\n",
      "Epoch 57/100\n",
      "85/85 [==============================] - 0s 93us/step - loss: 0.0424 - val_loss: 0.0231\n",
      "Epoch 58/100\n",
      "85/85 [==============================] - 0s 84us/step - loss: 0.0415 - val_loss: 0.0234\n",
      "Epoch 59/100\n",
      "85/85 [==============================] - 0s 137us/step - loss: 0.0406 - val_loss: 0.0230\n",
      "Epoch 60/100\n",
      "85/85 [==============================] - 0s 74us/step - loss: 0.0397 - val_loss: 0.0224\n",
      "Epoch 61/100\n",
      "85/85 [==============================] - 0s 132us/step - loss: 0.0388 - val_loss: 0.0225\n",
      "Epoch 62/100\n",
      "85/85 [==============================] - 0s 72us/step - loss: 0.0380 - val_loss: 0.0215\n",
      "Epoch 63/100\n",
      "85/85 [==============================] - 0s 76us/step - loss: 0.0373 - val_loss: 0.0203\n",
      "Epoch 64/100\n",
      "85/85 [==============================] - 0s 77us/step - loss: 0.0365 - val_loss: 0.0210\n",
      "Epoch 65/100\n",
      "85/85 [==============================] - 0s 100us/step - loss: 0.0356 - val_loss: 0.0194\n",
      "Epoch 66/100\n",
      "85/85 [==============================] - 0s 66us/step - loss: 0.0348 - val_loss: 0.0182\n",
      "Epoch 67/100\n",
      "85/85 [==============================] - 0s 81us/step - loss: 0.0341 - val_loss: 0.0177\n",
      "Epoch 68/100\n",
      "85/85 [==============================] - 0s 81us/step - loss: 0.0333 - val_loss: 0.0166\n",
      "Epoch 69/100\n",
      "85/85 [==============================] - 0s 169us/step - loss: 0.0327 - val_loss: 0.0146\n",
      "Epoch 70/100\n",
      "85/85 [==============================] - 0s 141us/step - loss: 0.0321 - val_loss: 0.0137\n",
      "Epoch 71/100\n",
      "85/85 [==============================] - 0s 97us/step - loss: 0.0314 - val_loss: 0.0136\n",
      "Epoch 72/100\n",
      "85/85 [==============================] - 0s 78us/step - loss: 0.0307 - val_loss: 0.0139\n",
      "Epoch 73/100\n",
      "85/85 [==============================] - 0s 76us/step - loss: 0.0300 - val_loss: 0.0137\n",
      "Epoch 74/100\n",
      "85/85 [==============================] - 0s 156us/step - loss: 0.0294 - val_loss: 0.0137\n",
      "Epoch 75/100\n",
      "85/85 [==============================] - 0s 91us/step - loss: 0.0288 - val_loss: 0.0131\n",
      "Epoch 76/100\n",
      "85/85 [==============================] - 0s 109us/step - loss: 0.0282 - val_loss: 0.0127\n",
      "Epoch 77/100\n",
      "85/85 [==============================] - 0s 107us/step - loss: 0.0277 - val_loss: 0.0124\n",
      "Epoch 78/100\n",
      "85/85 [==============================] - 0s 68us/step - loss: 0.0271 - val_loss: 0.0118\n",
      "Epoch 79/100\n",
      "85/85 [==============================] - 0s 109us/step - loss: 0.0266 - val_loss: 0.0118\n",
      "Epoch 80/100\n",
      "85/85 [==============================] - 0s 109us/step - loss: 0.0261 - val_loss: 0.0120\n",
      "Epoch 81/100\n"
     ]
    },
    {
     "name": "stdout",
     "output_type": "stream",
     "text": [
      "85/85 [==============================] - 0s 92us/step - loss: 0.0256 - val_loss: 0.0110\n",
      "Epoch 82/100\n",
      "85/85 [==============================] - 0s 78us/step - loss: 0.0250 - val_loss: 0.0105\n",
      "Epoch 83/100\n",
      "85/85 [==============================] - 0s 68us/step - loss: 0.0246 - val_loss: 0.0100\n",
      "Epoch 84/100\n",
      "85/85 [==============================] - 0s 161us/step - loss: 0.0241 - val_loss: 0.0093\n",
      "Epoch 85/100\n",
      "85/85 [==============================] - 0s 146us/step - loss: 0.0237 - val_loss: 0.0087\n",
      "Epoch 86/100\n",
      "85/85 [==============================] - 0s 136us/step - loss: 0.0233 - val_loss: 0.0090\n",
      "Epoch 87/100\n",
      "85/85 [==============================] - 0s 85us/step - loss: 0.0228 - val_loss: 0.0085\n",
      "Epoch 88/100\n",
      "85/85 [==============================] - 0s 84us/step - loss: 0.0224 - val_loss: 0.0076\n",
      "Epoch 89/100\n",
      "85/85 [==============================] - 0s 80us/step - loss: 0.0219 - val_loss: 0.0076\n",
      "Epoch 90/100\n",
      "85/85 [==============================] - 0s 89us/step - loss: 0.0216 - val_loss: 0.0071\n",
      "Epoch 91/100\n",
      "85/85 [==============================] - 0s 117us/step - loss: 0.0212 - val_loss: 0.0072\n",
      "Epoch 92/100\n",
      "85/85 [==============================] - 0s 77us/step - loss: 0.0208 - val_loss: 0.0073\n",
      "Epoch 93/100\n",
      "85/85 [==============================] - 0s 85us/step - loss: 0.0204 - val_loss: 0.0066\n",
      "Epoch 94/100\n",
      "85/85 [==============================] - 0s 60us/step - loss: 0.0201 - val_loss: 0.0061\n",
      "Epoch 95/100\n",
      "85/85 [==============================] - 0s 68us/step - loss: 0.0197 - val_loss: 0.0060\n",
      "Epoch 96/100\n",
      "85/85 [==============================] - 0s 68us/step - loss: 0.0194 - val_loss: 0.0063\n",
      "Epoch 97/100\n",
      "85/85 [==============================] - 0s 105us/step - loss: 0.0191 - val_loss: 0.0064\n",
      "Epoch 98/100\n",
      "85/85 [==============================] - 0s 84us/step - loss: 0.0188 - val_loss: 0.0062\n",
      "Epoch 99/100\n",
      "85/85 [==============================] - 0s 80us/step - loss: 0.0184 - val_loss: 0.0063\n",
      "Epoch 100/100\n",
      "85/85 [==============================] - 0s 90us/step - loss: 0.0182 - val_loss: 0.0063\n"
     ]
    }
   ],
   "source": [
    "# Train the model\n",
    "\n",
    "history = model.fit(x, y, epochs=100, validation_split=0.15)"
   ]
  },
  {
   "cell_type": "code",
   "execution_count": 12,
   "metadata": {},
   "outputs": [
    {
     "name": "stdout",
     "output_type": "stream",
     "text": [
      "Loss at last step: 0.018190\n",
      "Validation loss at last step: 0.006270\n"
     ]
    },
    {
     "data": {
      "text/plain": [
       "<matplotlib.legend.Legend at 0x7f4c64157f28>"
      ]
     },
     "execution_count": 12,
     "metadata": {},
     "output_type": "execute_result"
    },
    {
     "data": {
      "image/png": "[encoded data removed]",
      "text/plain": [
       "<matplotlib.figure.Figure at 0x7f4c641d0908>"
      ]
     },
     "metadata": {},
     "output_type": "display_data"
    }
   ],
   "source": [
    "# Print loss graph\n",
    "\n",
    "loss = history.history['loss']\n",
    "val_loss = history.history['val_loss']\n",
    "print(\"Loss at last step: %f\" % loss[-1])\n",
    "print(\"Validation loss at last step: %f\" % val_loss[-1])\n",
    "plot(loss, label='loss')\n",
    "plot(val_loss, label='val_loss')\n",
    "legend(loc='upper right')"
   ]
  },
  {
   "cell_type": "code",
   "execution_count": 13,
   "metadata": {},
   "outputs": [
    {
     "data": {
      "text/plain": [
       "<matplotlib.legend.Legend at 0x7f4c640ce550>"
      ]
     },
     "execution_count": 13,
     "metadata": {},
     "output_type": "execute_result"
    },
    {
     "data": {
      "image/png": "[encoded data removed]",
      "text/plain": [
       "<matplotlib.figure.Figure at 0x7f4c64188a58>"
      ]
     },
     "metadata": {},
     "output_type": "display_data"
    }
   ],
   "source": [
    "# Print both curves to show fit\n",
    "y_net = model.predict(x)\n",
    "plot(x, y, label='actual')\n",
    "plot(x, y_net, label='net')\n",
    "legend(loc='upper right')"
   ]
  },
  {
   "cell_type": "code",
   "execution_count": null,
   "metadata": {},
   "outputs": [],
   "source": []
  }
 ],
 "metadata": {
  "kernelspec": {
   "display_name": "Python 3",
   "language": "python",
   "name": "python3"
  },
  "language_info": {
   "codemirror_mode": {
    "name": "ipython",
    "version": 3
   },
   "file_extension": ".py",
   "mimetype": "text/x-python",
   "name": "python",
   "nbconvert_exporter": "python",
   "pygments_lexer": "ipython3",
   "version": "3.6.4"
  }
 },
 "nbformat": 4,
 "nbformat_minor": 2
}
