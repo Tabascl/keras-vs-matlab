{
 "cells": [
  {
   "cell_type": "markdown",
   "metadata": {},
   "source": [
    "## We want to create a neural network with Keras that beats this Matlab implementation:\n",
    "\n",
    "![Matlab loss](loss.jpg)\n",
    "\n",
    "![Matlab fit](fit.jpg)"
   ]
  },
  {
   "cell_type": "code",
   "execution_count": 124,
   "metadata": {},
   "outputs": [],
   "source": [
    "from matplotlib.pyplot import plot, legend\n",
    "import numpy as np\n",
    "\n",
    "from keras.models import Sequential\n",
    "from keras.layers import Dense, Activation\n",
    "from keras.optimizers import Adam"
   ]
  },
  {
   "cell_type": "code",
   "execution_count": 125,
   "metadata": {},
   "outputs": [
    {
     "data": {
      "text/plain": [
       "[<matplotlib.lines.Line2D at 0x7efcaba196d8>]"
      ]
     },
     "execution_count": 125,
     "metadata": {},
     "output_type": "execute_result"
    },
    {
     "data": {
      "image/png": "[encoded data removed]",
      "text/plain": [
       "<matplotlib.figure.Figure at 0x7efcaba406a0>"
      ]
     },
     "metadata": {},
     "output_type": "display_data"
    }
   ],
   "source": [
    "# Prepare data just like in Matlab\n",
    "x = np.arange(0, 10.1, 0.1)\n",
    "\n",
    "def sinc(x):\n",
    "    if x == 0:\n",
    "        return 1\n",
    "    else:\n",
    "        return (np.sin(x) / x)\n",
    "    \n",
    "y = [sinc(val) for val in x]\n",
    "\n",
    "plot(x,y)"
   ]
  },
  {
   "cell_type": "code",
   "execution_count": 126,
   "metadata": {},
   "outputs": [],
   "source": [
    "# Create a model with one hidden layer, just like in Matlab\n",
    "\n",
    "model = Sequential()\n",
    "model.add(Dense(10, input_shape=(1,)))\n",
    "model.add(Activation('tanh'))\n",
    "model.add(Dense(1))\n",
    "model.add(Activation('linear'))\n",
    "\n",
    "opti = Adam()\n",
    "\n",
    "model.compile(optimizer=opti,\n",
    "              loss='mean_squared_error')"
   ]
  },
  {
   "cell_type": "code",
   "execution_count": 127,
   "metadata": {},
   "outputs": [
    {
     "name": "stdout",
     "output_type": "stream",
     "text": [
      "Train on 85 samples, validate on 16 samples\n",
      "Epoch 1/100\n",
      "85/85 [==============================] - 0s 5ms/step - loss: 2.2931 - val_loss: 2.9510\n",
      "Epoch 2/100\n",
      "85/85 [==============================] - 0s 81us/step - loss: 2.1485 - val_loss: 2.7518\n",
      "Epoch 3/100\n",
      "85/85 [==============================] - 0s 89us/step - loss: 2.0083 - val_loss: 2.5604\n",
      "Epoch 4/100\n",
      "85/85 [==============================] - 0s 84us/step - loss: 1.8726 - val_loss: 2.3755\n",
      "Epoch 5/100\n",
      "85/85 [==============================] - 0s 93us/step - loss: 1.7439 - val_loss: 2.1976\n",
      "Epoch 6/100\n",
      "85/85 [==============================] - 0s 82us/step - loss: 1.6192 - val_loss: 2.0279\n",
      "Epoch 7/100\n",
      "85/85 [==============================] - 0s 126us/step - loss: 1.5000 - val_loss: 1.8668\n",
      "Epoch 8/100\n",
      "85/85 [==============================] - 0s 102us/step - loss: 1.3874 - val_loss: 1.7139\n",
      "Epoch 9/100\n",
      "85/85 [==============================] - 0s 124us/step - loss: 1.2794 - val_loss: 1.5697\n",
      "Epoch 10/100\n",
      "85/85 [==============================] - 0s 108us/step - loss: 1.1776 - val_loss: 1.4342\n",
      "Epoch 11/100\n",
      "85/85 [==============================] - 0s 81us/step - loss: 1.0825 - val_loss: 1.3071\n",
      "Epoch 12/100\n",
      "85/85 [==============================] - 0s 107us/step - loss: 0.9944 - val_loss: 1.1877\n",
      "Epoch 13/100\n",
      "85/85 [==============================] - 0s 76us/step - loss: 0.9098 - val_loss: 1.0765\n",
      "Epoch 14/100\n",
      "85/85 [==============================] - 0s 96us/step - loss: 0.8296 - val_loss: 0.9745\n",
      "Epoch 15/100\n",
      "85/85 [==============================] - 0s 90us/step - loss: 0.7571 - val_loss: 0.8796\n",
      "Epoch 16/100\n",
      "85/85 [==============================] - 0s 112us/step - loss: 0.6887 - val_loss: 0.7915\n",
      "Epoch 17/100\n",
      "85/85 [==============================] - 0s 77us/step - loss: 0.6278 - val_loss: 0.7096\n",
      "Epoch 18/100\n",
      "85/85 [==============================] - 0s 109us/step - loss: 0.5697 - val_loss: 0.6345\n",
      "Epoch 19/100\n",
      "85/85 [==============================] - 0s 89us/step - loss: 0.5151 - val_loss: 0.5665\n",
      "Epoch 20/100\n",
      "85/85 [==============================] - 0s 119us/step - loss: 0.4671 - val_loss: 0.5039\n",
      "Epoch 21/100\n",
      "85/85 [==============================] - 0s 127us/step - loss: 0.4218 - val_loss: 0.4475\n",
      "Epoch 22/100\n",
      "85/85 [==============================] - 0s 92us/step - loss: 0.3809 - val_loss: 0.3962\n",
      "Epoch 23/100\n",
      "85/85 [==============================] - 0s 122us/step - loss: 0.3439 - val_loss: 0.3499\n",
      "Epoch 24/100\n",
      "85/85 [==============================] - 0s 94us/step - loss: 0.3112 - val_loss: 0.3077\n",
      "Epoch 25/100\n",
      "85/85 [==============================] - 0s 103us/step - loss: 0.2807 - val_loss: 0.2702\n",
      "Epoch 26/100\n",
      "85/85 [==============================] - 0s 126us/step - loss: 0.2534 - val_loss: 0.2367\n",
      "Epoch 27/100\n",
      "85/85 [==============================] - 0s 107us/step - loss: 0.2289 - val_loss: 0.2070\n",
      "Epoch 28/100\n",
      "85/85 [==============================] - 0s 85us/step - loss: 0.2072 - val_loss: 0.1807\n",
      "Epoch 29/100\n",
      "85/85 [==============================] - 0s 163us/step - loss: 0.1881 - val_loss: 0.1572\n",
      "Epoch 30/100\n",
      "85/85 [==============================] - 0s 99us/step - loss: 0.1710 - val_loss: 0.1366\n",
      "Epoch 31/100\n",
      "85/85 [==============================] - 0s 130us/step - loss: 0.1557 - val_loss: 0.1184\n",
      "Epoch 32/100\n",
      "85/85 [==============================] - 0s 83us/step - loss: 0.1418 - val_loss: 0.1026\n",
      "Epoch 33/100\n",
      "85/85 [==============================] - 0s 114us/step - loss: 0.1301 - val_loss: 0.0886\n",
      "Epoch 34/100\n",
      "85/85 [==============================] - 0s 121us/step - loss: 0.1199 - val_loss: 0.0765\n",
      "Epoch 35/100\n",
      "85/85 [==============================] - 0s 76us/step - loss: 0.1110 - val_loss: 0.0659\n",
      "Epoch 36/100\n",
      "85/85 [==============================] - 0s 124us/step - loss: 0.1031 - val_loss: 0.0566\n",
      "Epoch 37/100\n",
      "85/85 [==============================] - 0s 96us/step - loss: 0.0964 - val_loss: 0.0487\n",
      "Epoch 38/100\n",
      "85/85 [==============================] - 0s 138us/step - loss: 0.0903 - val_loss: 0.0419\n",
      "Epoch 39/100\n",
      "85/85 [==============================] - 0s 122us/step - loss: 0.0853 - val_loss: 0.0361\n",
      "Epoch 40/100\n",
      "85/85 [==============================] - 0s 75us/step - loss: 0.0810 - val_loss: 0.0311\n",
      "Epoch 41/100\n",
      "85/85 [==============================] - 0s 80us/step - loss: 0.0772 - val_loss: 0.0269\n",
      "Epoch 42/100\n",
      "85/85 [==============================] - 0s 68us/step - loss: 0.0736 - val_loss: 0.0233\n",
      "Epoch 43/100\n",
      "85/85 [==============================] - 0s 119us/step - loss: 0.0709 - val_loss: 0.0203\n",
      "Epoch 44/100\n",
      "85/85 [==============================] - 0s 88us/step - loss: 0.0685 - val_loss: 0.0177\n",
      "Epoch 45/100\n",
      "85/85 [==============================] - 0s 109us/step - loss: 0.0667 - val_loss: 0.0154\n",
      "Epoch 46/100\n",
      "85/85 [==============================] - 0s 75us/step - loss: 0.0648 - val_loss: 0.0136\n",
      "Epoch 47/100\n",
      "85/85 [==============================] - 0s 138us/step - loss: 0.0632 - val_loss: 0.0120\n",
      "Epoch 48/100\n",
      "85/85 [==============================] - 0s 77us/step - loss: 0.0620 - val_loss: 0.0107\n",
      "Epoch 49/100\n",
      "85/85 [==============================] - 0s 103us/step - loss: 0.0608 - val_loss: 0.0096\n",
      "Epoch 50/100\n",
      "85/85 [==============================] - 0s 98us/step - loss: 0.0599 - val_loss: 0.0087\n",
      "Epoch 51/100\n",
      "85/85 [==============================] - 0s 93us/step - loss: 0.0589 - val_loss: 0.0079\n",
      "Epoch 52/100\n",
      "85/85 [==============================] - 0s 115us/step - loss: 0.0582 - val_loss: 0.0073\n",
      "Epoch 53/100\n",
      "85/85 [==============================] - 0s 174us/step - loss: 0.0575 - val_loss: 0.0068\n",
      "Epoch 54/100\n",
      "85/85 [==============================] - 0s 88us/step - loss: 0.0568 - val_loss: 0.0064\n",
      "Epoch 55/100\n",
      "85/85 [==============================] - 0s 189us/step - loss: 0.0563 - val_loss: 0.0060\n",
      "Epoch 56/100\n",
      "85/85 [==============================] - 0s 149us/step - loss: 0.0557 - val_loss: 0.0058\n",
      "Epoch 57/100\n",
      "85/85 [==============================] - 0s 111us/step - loss: 0.0553 - val_loss: 0.0055\n",
      "Epoch 58/100\n",
      "85/85 [==============================] - 0s 88us/step - loss: 0.0548 - val_loss: 0.0053\n",
      "Epoch 59/100\n",
      "85/85 [==============================] - 0s 105us/step - loss: 0.0543 - val_loss: 0.0051\n",
      "Epoch 60/100\n",
      "85/85 [==============================] - 0s 150us/step - loss: 0.0540 - val_loss: 0.0050\n",
      "Epoch 61/100\n",
      "85/85 [==============================] - 0s 96us/step - loss: 0.0535 - val_loss: 0.0049\n",
      "Epoch 62/100\n",
      "85/85 [==============================] - 0s 71us/step - loss: 0.0531 - val_loss: 0.0048\n",
      "Epoch 63/100\n",
      "85/85 [==============================] - 0s 97us/step - loss: 0.0527 - val_loss: 0.0048\n",
      "Epoch 64/100\n",
      "85/85 [==============================] - 0s 99us/step - loss: 0.0523 - val_loss: 0.0047\n",
      "Epoch 65/100\n",
      "85/85 [==============================] - 0s 91us/step - loss: 0.0520 - val_loss: 0.0047\n",
      "Epoch 66/100\n",
      "85/85 [==============================] - 0s 91us/step - loss: 0.0516 - val_loss: 0.0047\n",
      "Epoch 67/100\n",
      "85/85 [==============================] - 0s 106us/step - loss: 0.0512 - val_loss: 0.0047\n",
      "Epoch 68/100\n",
      "85/85 [==============================] - 0s 116us/step - loss: 0.0509 - val_loss: 0.0047\n",
      "Epoch 69/100\n",
      "85/85 [==============================] - 0s 131us/step - loss: 0.0505 - val_loss: 0.0047\n",
      "Epoch 70/100\n",
      "85/85 [==============================] - 0s 88us/step - loss: 0.0501 - val_loss: 0.0047\n",
      "Epoch 71/100\n",
      "85/85 [==============================] - 0s 120us/step - loss: 0.0498 - val_loss: 0.0048\n",
      "Epoch 72/100\n",
      "85/85 [==============================] - 0s 103us/step - loss: 0.0494 - val_loss: 0.0048\n",
      "Epoch 73/100\n",
      "85/85 [==============================] - 0s 106us/step - loss: 0.0490 - val_loss: 0.0049\n",
      "Epoch 74/100\n",
      "85/85 [==============================] - 0s 147us/step - loss: 0.0487 - val_loss: 0.0049\n",
      "Epoch 75/100\n",
      "85/85 [==============================] - 0s 89us/step - loss: 0.0484 - val_loss: 0.0049\n",
      "Epoch 76/100\n",
      "85/85 [==============================] - 0s 104us/step - loss: 0.0480 - val_loss: 0.0050\n",
      "Epoch 77/100\n",
      "85/85 [==============================] - 0s 59us/step - loss: 0.0477 - val_loss: 0.0050\n",
      "Epoch 78/100\n",
      "85/85 [==============================] - 0s 68us/step - loss: 0.0473 - val_loss: 0.0050\n",
      "Epoch 79/100\n",
      "85/85 [==============================] - 0s 87us/step - loss: 0.0470 - val_loss: 0.0051\n",
      "Epoch 80/100\n",
      "85/85 [==============================] - 0s 158us/step - loss: 0.0467 - val_loss: 0.0051\n",
      "Epoch 81/100\n",
      "85/85 [==============================] - 0s 167us/step - loss: 0.0464 - val_loss: 0.0051\n",
      "Epoch 82/100\n",
      "85/85 [==============================] - 0s 117us/step - loss: 0.0461 - val_loss: 0.0051\n",
      "Epoch 83/100\n",
      "85/85 [==============================] - 0s 133us/step - loss: 0.0457 - val_loss: 0.0051\n",
      "Epoch 84/100\n",
      "85/85 [==============================] - 0s 108us/step - loss: 0.0454 - val_loss: 0.0051\n",
      "Epoch 85/100\n",
      "85/85 [==============================] - 0s 118us/step - loss: 0.0451 - val_loss: 0.0051\n",
      "Epoch 86/100\n",
      "85/85 [==============================] - 0s 197us/step - loss: 0.0448 - val_loss: 0.0052\n",
      "Epoch 87/100\n",
      "85/85 [==============================] - 0s 128us/step - loss: 0.0445 - val_loss: 0.0052\n",
      "Epoch 88/100\n",
      "85/85 [==============================] - 0s 127us/step - loss: 0.0442 - val_loss: 0.0052\n",
      "Epoch 89/100\n",
      "85/85 [==============================] - 0s 192us/step - loss: 0.0438 - val_loss: 0.0052\n",
      "Epoch 90/100\n",
      "85/85 [==============================] - 0s 127us/step - loss: 0.0436 - val_loss: 0.0053\n",
      "Epoch 91/100\n",
      "85/85 [==============================] - 0s 97us/step - loss: 0.0432 - val_loss: 0.0054\n",
      "Epoch 92/100\n",
      "85/85 [==============================] - 0s 126us/step - loss: 0.0430 - val_loss: 0.0054\n",
      "Epoch 93/100\n",
      "85/85 [==============================] - 0s 133us/step - loss: 0.0427 - val_loss: 0.0055\n",
      "Epoch 94/100\n",
      "85/85 [==============================] - 0s 72us/step - loss: 0.0424 - val_loss: 0.0056\n",
      "Epoch 95/100\n",
      "85/85 [==============================] - 0s 84us/step - loss: 0.0421 - val_loss: 0.0056\n",
      "Epoch 96/100\n",
      "85/85 [==============================] - 0s 159us/step - loss: 0.0418 - val_loss: 0.0056\n",
      "Epoch 97/100\n",
      "85/85 [==============================] - 0s 76us/step - loss: 0.0415 - val_loss: 0.0057\n",
      "Epoch 98/100\n",
      "85/85 [==============================] - 0s 121us/step - loss: 0.0412 - val_loss: 0.0057\n",
      "Epoch 99/100\n",
      "85/85 [==============================] - 0s 139us/step - loss: 0.0409 - val_loss: 0.0057\n",
      "Epoch 100/100\n",
      "85/85 [==============================] - 0s 181us/step - loss: 0.0406 - val_loss: 0.0057\n"
     ]
    }
   ],
   "source": [
    "# Train the model\n",
    "\n",
    "history = model.fit(x, y, epochs=100, validation_split=0.15)"
   ]
  },
  {
   "cell_type": "code",
   "execution_count": 128,
   "metadata": {},
   "outputs": [
    {
     "name": "stdout",
     "output_type": "stream",
     "text": [
      "Loss at last step: 0.040639\n",
      "Validation loss at last step: 0.005721\n"
     ]
    },
    {
     "data": {
      "text/plain": [
       "<matplotlib.legend.Legend at 0x7efcab3f8a58>"
      ]
     },
     "execution_count": 128,
     "metadata": {},
     "output_type": "execute_result"
    },
    {
     "data": {
      "image/png": "[encoded data removed]",
      "text/plain": [
       "<matplotlib.figure.Figure at 0x7efcab5b4ef0>"
      ]
     },
     "metadata": {},
     "output_type": "display_data"
    }
   ],
   "source": [
    "# Print loss graph\n",
    "\n",
    "loss = history.history['loss']\n",
    "val_loss = history.history['val_loss']\n",
    "print(\"Loss at last step: %f\" % loss[-1])\n",
    "print(\"Validation loss at last step: %f\" % val_loss[-1])\n",
    "plot(loss, label='loss')\n",
    "plot(val_loss, label='val_loss')\n",
    "legend(loc='upper right')"
   ]
  },
  {
   "cell_type": "code",
   "execution_count": 129,
   "metadata": {},
   "outputs": [
    {
     "data": {
      "text/plain": [
       "<matplotlib.legend.Legend at 0x7efcab51dda0>"
      ]
     },
     "execution_count": 129,
     "metadata": {},
     "output_type": "execute_result"
    },
    {
     "data": {
      "image/png": "[encoded data removed]",
      "text/plain": [
       "<matplotlib.figure.Figure at 0x7efcabb7ba58>"
      ]
     },
     "metadata": {},
     "output_type": "display_data"
    }
   ],
   "source": [
    "# Print both curves to show fit\n",
    "plot(x, y, label='actual')\n",
    "plot(x, y_net, label='net')\n",
    "legend(loc='upper right')"
   ]
  },
  {
   "cell_type": "code",
   "execution_count": null,
   "metadata": {},
   "outputs": [],
   "source": []
  }
 ],
 "metadata": {
  "kernelspec": {
   "display_name": "Python 3",
   "language": "python",
   "name": "python3"
  },
  "language_info": {
   "codemirror_mode": {
    "name": "ipython",
    "version": 3
   },
   "file_extension": ".py",
   "mimetype": "text/x-python",
   "name": "python",
   "nbconvert_exporter": "python",
   "pygments_lexer": "ipython3",
   "version": "3.6.4"
  }
 },
 "nbformat": 4,
 "nbformat_minor": 2
}
